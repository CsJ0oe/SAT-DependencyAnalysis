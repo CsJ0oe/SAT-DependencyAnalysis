{
  "nbformat": 4,
  "nbformat_minor": 0,
  "metadata": {
    "colab": {
      "name": "Copy of dependency_analysis_using_SAT.ipynb",
      "provenance": [],
      "collapsed_sections": []
    },
    "kernelspec": {
      "name": "python3",
      "display_name": "Python 3"
    }
  },
  "cells": [
    {
      "cell_type": "code",
      "metadata": {
        "colab": {
          "base_uri": "https://localhost:8080/"
        },
        "id": "TdYe7c4J5jom",
        "outputId": "adc29df9-5cb6-4be2-aea8-510725ca337a"
      },
      "source": [
        "!wget https://www.labri.fr/perso/lsimon/option-ia/Search/Master-Class-SAT/pysat.zip\n",
        "!unzip -o pysat\n",
        "!mv lorensi-pysat-8625ab1d6cdf/src/* ."
      ],
      "execution_count": 1,
      "outputs": [
        {
          "output_type": "stream",
          "text": [
            "--2021-01-31 13:37:17--  https://www.labri.fr/perso/lsimon/option-ia/Search/Master-Class-SAT/pysat.zip\n",
            "Resolving www.labri.fr (www.labri.fr)... 147.210.8.59, 2001:660:6101:404::80\n",
            "Connecting to www.labri.fr (www.labri.fr)|147.210.8.59|:443... connected.\n",
            "HTTP request sent, awaiting response... 200 OK\n",
            "Length: 1535196 (1.5M) [application/zip]\n",
            "Saving to: ‘pysat.zip’\n",
            "\n",
            "pysat.zip           100%[===================>]   1.46M  2.23MB/s    in 0.7s    \n",
            "\n",
            "2021-01-31 13:37:18 (2.23 MB/s) - ‘pysat.zip’ saved [1535196/1535196]\n",
            "\n",
            "Archive:  pysat.zip\n",
            "  inflating: lorensi-pysat-8625ab1d6cdf/.hg_archival.txt  \n",
            "  inflating: lorensi-pysat-8625ab1d6cdf/README.md  \n",
            "  inflating: lorensi-pysat-8625ab1d6cdf/examples/BMC-Unsat/README  \n",
            "  inflating: lorensi-pysat-8625ab1d6cdf/examples/BMC-Unsat/barrel2.cnf.gz  \n",
            "  inflating: lorensi-pysat-8625ab1d6cdf/examples/BMC-Unsat/barrel3.cnf.gz  \n",
            "  inflating: lorensi-pysat-8625ab1d6cdf/examples/BMC-Unsat/barrel4.cnf.gz  \n",
            "  inflating: lorensi-pysat-8625ab1d6cdf/examples/BMC-Unsat/barrel5.cnf.gz  \n",
            "  inflating: lorensi-pysat-8625ab1d6cdf/examples/BMC-Unsat/barrel6.cnf.gz  \n",
            "  inflating: lorensi-pysat-8625ab1d6cdf/examples/BMC-Unsat/barrel7.cnf.gz  \n",
            "  inflating: lorensi-pysat-8625ab1d6cdf/examples/BMC-Unsat/barrel8.cnf.gz  \n",
            "  inflating: lorensi-pysat-8625ab1d6cdf/examples/BMC-Unsat/barrel9.cnf.gz  \n",
            "  inflating: lorensi-pysat-8625ab1d6cdf/examples/BMC-Unsat/longmult0.cnf.gz  \n",
            "  inflating: lorensi-pysat-8625ab1d6cdf/examples/BMC-Unsat/longmult1.cnf.gz  \n",
            "  inflating: lorensi-pysat-8625ab1d6cdf/examples/BMC-Unsat/longmult10.cnf.gz  \n",
            "  inflating: lorensi-pysat-8625ab1d6cdf/examples/BMC-Unsat/longmult11.cnf.gz  \n",
            "  inflating: lorensi-pysat-8625ab1d6cdf/examples/BMC-Unsat/longmult12.cnf.gz  \n",
            "  inflating: lorensi-pysat-8625ab1d6cdf/examples/BMC-Unsat/longmult13.cnf.gz  \n",
            "  inflating: lorensi-pysat-8625ab1d6cdf/examples/BMC-Unsat/longmult14.cnf.gz  \n",
            "  inflating: lorensi-pysat-8625ab1d6cdf/examples/BMC-Unsat/longmult15.cnf.gz  \n",
            "  inflating: lorensi-pysat-8625ab1d6cdf/examples/BMC-Unsat/longmult2.cnf.gz  \n",
            "  inflating: lorensi-pysat-8625ab1d6cdf/examples/BMC-Unsat/longmult3.cnf.gz  \n",
            "  inflating: lorensi-pysat-8625ab1d6cdf/examples/BMC-Unsat/longmult4.cnf.gz  \n",
            "  inflating: lorensi-pysat-8625ab1d6cdf/examples/BMC-Unsat/longmult5.cnf.gz  \n",
            "  inflating: lorensi-pysat-8625ab1d6cdf/examples/BMC-Unsat/longmult6.cnf.gz  \n",
            "  inflating: lorensi-pysat-8625ab1d6cdf/examples/BMC-Unsat/longmult7.cnf.gz  \n",
            "  inflating: lorensi-pysat-8625ab1d6cdf/examples/BMC-Unsat/longmult8.cnf.gz  \n",
            "  inflating: lorensi-pysat-8625ab1d6cdf/examples/BMC-Unsat/longmult9.cnf.gz  \n",
            "  inflating: lorensi-pysat-8625ab1d6cdf/examples/BMC-Unsat/queueinvar10.cnf.gz  \n",
            "  inflating: lorensi-pysat-8625ab1d6cdf/examples/BMC-Unsat/queueinvar12.cnf.gz  \n",
            "  inflating: lorensi-pysat-8625ab1d6cdf/examples/BMC-Unsat/queueinvar14.cnf.gz  \n",
            "  inflating: lorensi-pysat-8625ab1d6cdf/examples/BMC-Unsat/queueinvar16.cnf.gz  \n",
            "  inflating: lorensi-pysat-8625ab1d6cdf/examples/BMC-Unsat/queueinvar18.cnf.gz  \n",
            "  inflating: lorensi-pysat-8625ab1d6cdf/examples/BMC-Unsat/queueinvar2.cnf.gz  \n",
            "  inflating: lorensi-pysat-8625ab1d6cdf/examples/BMC-Unsat/queueinvar20.cnf.gz  \n",
            "  inflating: lorensi-pysat-8625ab1d6cdf/examples/BMC-Unsat/queueinvar4.cnf.gz  \n",
            "  inflating: lorensi-pysat-8625ab1d6cdf/examples/BMC-Unsat/queueinvar6.cnf.gz  \n",
            "  inflating: lorensi-pysat-8625ab1d6cdf/examples/BMC-Unsat/queueinvar8.cnf.gz  \n",
            "  inflating: lorensi-pysat-8625ab1d6cdf/examples/sample.cnf  \n",
            "  inflating: lorensi-pysat-8625ab1d6cdf/src/genRandom.py  \n",
            "  inflating: lorensi-pysat-8625ab1d6cdf/src/prettyPrinter.py  \n",
            "  inflating: lorensi-pysat-8625ab1d6cdf/src/pysat.py  \n",
            "  inflating: lorensi-pysat-8625ab1d6cdf/src/pysatdpll.py  \n",
            "  inflating: lorensi-pysat-8625ab1d6cdf/src/satboundedqueue.py  \n",
            "  inflating: lorensi-pysat-8625ab1d6cdf/src/satheapq.py  \n",
            "  inflating: lorensi-pysat-8625ab1d6cdf/src/sattypes.py  \n",
            "  inflating: lorensi-pysat-8625ab1d6cdf/src/satutils.py  \n"
          ],
          "name": "stdout"
        }
      ]
    },
    {
      "cell_type": "code",
      "metadata": {
        "id": "g2wUYCkw1bvO"
      },
      "source": [
        "raw_package_data = '''\n",
        "libdatrie-doc:\n",
        "    DependsOn:\n",
        "        - libjs-jquery\n",
        "libjs-jquery:\n",
        "    Breaks:\n",
        "        - jquery\n",
        "        - movabletype-opensource\n",
        "libfstrcmp0-dbg:\n",
        "    DependsOn:\n",
        "        - libfstrcmp0\n",
        "libfstrcmp0:\n",
        "    DependsOn:\n",
        "        - libc6\n",
        "libc6:\n",
        "    DependsOn:\n",
        "        - libgcc1\n",
        "    Breaks:\n",
        "        - openrc\n",
        "        - hurd\n",
        "        - libtirpc1\n",
        "        - locales\n",
        "        - locales-all\n",
        "        - nscd\n",
        "libgcc1:\n",
        "    DependsOn:\n",
        "        - gcc-8-base\n",
        "        - openrc\n",
        "    Breaks:\n",
        "        - gcc-4.3\n",
        "        - gcc-4.4\n",
        "        - gcc-4.5\n",
        "\n",
        "libtirpc1:\n",
        "    DependsOn:\n",
        "        - libc6\n",
        "        - libgssapi-krb5-2\n",
        "    Breaks:\n",
        "        - nfs-common\n",
        "        - nfs-kernel-server\n",
        "\n",
        "locales:\n",
        "    DependsOn:\n",
        "        - libc-bin\n",
        "        - libc-bin:i386\n",
        "        - debconf\n",
        "        - debconf-2.0\n",
        "        - cdebconf\n",
        "        - debconf\n",
        "    Breaks:\n",
        "        - libc-bin\n",
        "\n",
        "locales-all:\n",
        "    Breaks:\n",
        "        - locales\n",
        "nscd:\n",
        "    DependsOn:\n",
        "        - lsb-base\n",
        "        - libaudit1\n",
        "        - libcap2\n",
        "        - libselinux1\n",
        "\n",
        "libgssapi-krb5-2:\n",
        "    DependsOn:\n",
        "        - libcom-err2\n",
        "        - libk5crypto3\n",
        "        - libkrb5-3\n",
        "        - libkrb5support0\n",
        "    Breaks:\n",
        "        - moonshot-gss-eap\n",
        "\n",
        "nfs-common:\n",
        "    DependsOn:\n",
        "        - libcap2\n",
        "        - libcom-err2\n",
        "        - libdevmapper1.02.1\n",
        "        - libevent-2.1-6\n",
        "        - libgssapi-krb5-2\n",
        "        - libkeyutils1\n",
        "        - libkrb5-3\n",
        "        - libmount1\n",
        "        - libnfsidmap2\n",
        "        - libtirpc1\n",
        "        - libwrap0\n",
        "        - rpcbind\n",
        "        - adduser\n",
        "        - ucf\n",
        "        - lsb-base\n",
        "        - keyutils\n",
        "        - keyutils:i386\n",
        "    Breaks:\n",
        "        - nfs-client\n",
        "        - nfs-kernel-server\n",
        "'''"
      ],
      "execution_count": 2,
      "outputs": []
    },
    {
      "cell_type": "code",
      "metadata": {
        "id": "dElV69aF2C1Z"
      },
      "source": [
        "import yaml\n",
        "package_data = yaml.load(raw_package_data)"
      ],
      "execution_count": 3,
      "outputs": []
    },
    {
      "cell_type": "code",
      "metadata": {
        "colab": {
          "base_uri": "https://localhost:8080/"
        },
        "id": "DfkaLRTr2jMi",
        "outputId": "6e77b613-618e-403c-f5c1-4675c23d5649"
      },
      "source": [
        "all_packages = set()\n",
        "for package in package_data:\n",
        "  all_packages.add(package)\n",
        "  dependencies = package_data[package].get('DependsOn', None)\n",
        "  conflicts = package_data[package].get('Breaks', None)\n",
        "  if dependencies is not None:\n",
        "    all_packages.update(set(dependencies))\n",
        "  if conflicts is not None:\n",
        "    all_packages.update(set(conflicts))\n",
        "\n",
        "all_packages = list(all_packages)\n",
        "print(\"[+] There are {} packages in the system\".format(all_packages.__len__()))"
      ],
      "execution_count": 4,
      "outputs": [
        {
          "output_type": "stream",
          "text": [
            "[+] There are 47 packages in the system\n"
          ],
          "name": "stdout"
        }
      ]
    },
    {
      "cell_type": "code",
      "metadata": {
        "colab": {
          "base_uri": "https://localhost:8080/"
        },
        "id": "ktcYRPwB5s-T",
        "outputId": "e487bdb7-fde6-4a6c-84c2-10fcef57691a"
      },
      "source": [
        "#software_to_install = 'nfs-common'         # cannot install\n",
        "software_to_install = 'libgssapi-krb5-2' # can install\n",
        "print(\"[+] To install {}\".format(software_to_install))\n",
        "print(\"[..] Checking dependencies..\")\n",
        "\n",
        "CNF = []\n",
        "\n",
        "from pysat import Solver\n",
        "solver = Solver()\n",
        "\n",
        "to_verify = set([software_to_install])\n",
        "verifed   = []\n",
        "while to_verify.__len__() > 0:\n",
        "  software_to_verify = to_verify.pop()\n",
        "  if software_to_verify in all_packages and software_to_verify not in verifed:\n",
        "    dependencies = package_data.get(software_to_verify, {}).get('DependsOn', [])\n",
        "    for dependency in dependencies:\n",
        "      variable_1 = -all_packages.index(software_to_verify)\n",
        "      variable_2 = all_packages.index(dependency)\n",
        "      # print(\"adding dependencies: {}\".format([variable_1, variable_2]))\n",
        "      CNF.append([variable_1, variable_2])\n",
        "    CNF.append([all_packages.index(software_to_verify)])\n",
        "    to_verify.update(dependencies)\n",
        "    to_verify.__len__()\n",
        "\n",
        "    conflicts = package_data.get(software_to_verify, {}).get('Breaks', [])\n",
        "    for conflict in conflicts:\n",
        "      variable_1 = -all_packages.index(software_to_verify)\n",
        "      variable_2 = -all_packages.index(conflict)\n",
        "      # print(\"adding conflicts: {}\".format([variable_1, variable_2]))\n",
        "      CNF.append([variable_1, variable_2])\n",
        "    \n",
        "    verifed.append(software_to_verify)\n",
        "  elif software_to_verify not in all_packages:\n",
        "    print(\"[-] '{}' Not recognized\".format(software_to_verify))\n",
        "  \n",
        "    \n",
        "\n",
        "for cnf in CNF:\n",
        "  solver.addClause(cnf)\n",
        "\n",
        "solver.buildDataStructure()\n",
        "solver.solve()\n",
        "\n",
        "solution = solver.finalModel\n",
        "print(\"[*] Package can be installed? {}\".format(solution.__len__() > 0))"
      ],
      "execution_count": 7,
      "outputs": [
        {
          "output_type": "stream",
          "text": [
            "[+] To install libgssapi-krb5-2\n",
            "[..] Checking dependencies..\n",
            "c Building data structures in 0.00s\n",
            "c Ready to go with 41 variables and 10 clauses\n",
            "[*] Package can be installed? True\n"
          ],
          "name": "stdout"
        }
      ]
    }
  ]
}
